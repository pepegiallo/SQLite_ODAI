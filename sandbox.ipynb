{
 "cells": [
  {
   "cell_type": "code",
   "execution_count": 1,
   "metadata": {},
   "outputs": [],
   "source": [
    "from interface import ObjectInterface\n",
    "\n",
    "FILENAME_DATABASE = 'data/database.db'\n",
    "\n",
    "def get_interface() -> ObjectInterface:\n",
    "    interface = ObjectInterface(FILENAME_DATABASE)\n",
    "    interface.connect()\n",
    "    return interface"
   ]
  },
  {
   "cell_type": "code",
   "execution_count": 5,
   "metadata": {},
   "outputs": [
    {
     "name": "stdout",
     "output_type": "stream",
     "text": [
      "{'first_name': 'Anne', 'last_name': 'Fischer', 'birthday': '1997-03-25'}\n",
      "1997-03-25\n"
     ]
    }
   ],
   "source": [
    "source = \"\"\"\n",
    "from datetime import datetime\n",
    "value = datetime.strptime(value, '%Y-%m-%d').date()\n",
    "\"\"\"\n",
    "\n",
    "with get_interface() as interface:\n",
    "    obj = interface.get_object(1)\n",
    "    print(obj.attributes)\n",
    "    value = interface.execution_handler.transform_value(source, obj, obj.attributes['birthday'])\n",
    "    print(value)"
   ]
  },
  {
   "cell_type": "code",
   "execution_count": 5,
   "metadata": {},
   "outputs": [
    {
     "name": "stdout",
     "output_type": "stream",
     "text": [
      "[[1 2 3]\n",
      " [4 5 6]\n",
      " [7 8 9]] \n",
      " [[1 2 3]\n",
      " [4 5 6]\n",
      " [7 8 9]]\n"
     ]
    }
   ],
   "source": [
    "import utils\n",
    "import numpy as np\n",
    "\n",
    "a = np.array([[1, 2, 3], [4, 5, 6], [7, 8, 9]])\n",
    "b = utils.array_to_bytes(a)\n",
    "a_read = utils.bytes_to_array(b)\n",
    "print(a, '\\n', a_read)"
   ]
  }
 ],
 "metadata": {
  "kernelspec": {
   "display_name": ".venv",
   "language": "python",
   "name": "python3"
  },
  "language_info": {
   "codemirror_mode": {
    "name": "ipython",
    "version": 3
   },
   "file_extension": ".py",
   "mimetype": "text/x-python",
   "name": "python",
   "nbconvert_exporter": "python",
   "pygments_lexer": "ipython3",
   "version": "3.9.7"
  },
  "orig_nbformat": 4
 },
 "nbformat": 4,
 "nbformat_minor": 2
}
