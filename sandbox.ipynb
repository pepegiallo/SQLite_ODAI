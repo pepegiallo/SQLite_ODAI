{
 "cells": [
  {
   "cell_type": "code",
   "execution_count": 1,
   "metadata": {},
   "outputs": [],
   "source": [
    "from interface import ObjectInterface\n",
    "from ddl import Interpreter\n",
    "import utils\n",
    "import logging\n",
    "import os\n",
    "import examples.randomdata as rd\n",
    "from decimal import Decimal\n",
    "import random\n",
    "from datetime import datetime\n",
    "\n",
    "FILENAME_DATABASE = 'data/database.db'\n",
    "FILENAME_STRUCTURE = 'setup/example_structure.ddl'\n",
    "logging.basicConfig(format='[%(asctime)s] %(levelname)s: %(message)s', datefmt='%Y-%m-%d %H:%M:%S', level=logging.DEBUG)\n",
    "\n",
    "def get_interface() -> ObjectInterface:\n",
    "    interface = ObjectInterface(FILENAME_DATABASE)\n",
    "    interface.connect()\n",
    "    return interface"
   ]
  },
  {
   "attachments": {},
   "cell_type": "markdown",
   "metadata": {},
   "source": [
    "### Datenbank neu aufsetzen und Datenmodell einspielen"
   ]
  },
  {
   "cell_type": "code",
   "execution_count": 2,
   "metadata": {},
   "outputs": [
    {
     "name": "stderr",
     "output_type": "stream",
     "text": [
      "[2024-01-31 08:04:47] DEBUG: Setup successful\n",
      "[2024-01-31 08:04:47] DEBUG: Created datatype void (NULL, no read transformer, no write transformer)\n",
      "[2024-01-31 08:04:47] DEBUG: Created datatype int (INTEGER, no read transformer, no write transformer)\n",
      "[2024-01-31 08:04:47] DEBUG: Created datatype shorttext (VARCHAR(64), no read transformer, no write transformer)\n",
      "[2024-01-31 08:04:47] DEBUG: Created datatype longtext (VARCHAR(256), no read transformer, no write transformer)\n",
      "[2024-01-31 08:04:47] DEBUG: Created datatype text (TEXT, no read transformer, no write transformer)\n",
      "[2024-01-31 08:04:47] DEBUG: Created datatype date (DATE, read transformer, write transformer)\n",
      "[2024-01-31 08:04:47] DEBUG: Created datatype datetime (DATETIME, read transformer, write transformer)\n",
      "[2024-01-31 08:04:47] DEBUG: Created datatype zipcode (VARCHAR(5), no read transformer, no write transformer)\n",
      "[2024-01-31 08:04:47] DEBUG: Created datatype currency2 (INTEGER, read transformer, write transformer)\n",
      "[2024-01-31 08:04:47] DEBUG: Created datatype array (BLOB, read transformer, write transformer)\n",
      "[2024-01-31 08:04:47] DEBUG: Created new attribute first_name\n",
      "[2024-01-31 08:04:47] DEBUG: Created new attribute last_name\n",
      "[2024-01-31 08:04:47] DEBUG: Created new attribute full_name\n",
      "[2024-01-31 08:04:47] DEBUG: Created new attribute number\n",
      "[2024-01-31 08:04:47] DEBUG: Created new attribute street\n",
      "[2024-01-31 08:04:47] DEBUG: Created new attribute house_number\n",
      "[2024-01-31 08:04:47] DEBUG: Created new attribute zip\n",
      "[2024-01-31 08:04:47] DEBUG: Created new attribute city\n",
      "[2024-01-31 08:04:47] DEBUG: Created new attribute price\n",
      "[2024-01-31 08:04:47] DEBUG: Created new attribute creation_time\n",
      "[2024-01-31 08:04:47] DEBUG: Created new attribute name\n",
      "[2024-01-31 08:04:47] DEBUG: Created new attribute amount\n",
      "[2024-01-31 08:04:47] DEBUG: Created new attribute birthday\n",
      "[2024-01-31 08:04:47] DEBUG: Created new class Person\n",
      "[2024-01-31 08:04:47] DEBUG: Assigned first_name to Person\n",
      "[2024-01-31 08:04:47] DEBUG: Assigned last_name to Person\n",
      "[2024-01-31 08:04:47] DEBUG: Assigned full_name to Person\n",
      "[2024-01-31 08:04:47] DEBUG: Assigned birthday to Person\n",
      "[2024-01-31 08:04:47] DEBUG: Created new class Customer as subclass of Person\n",
      "[2024-01-31 08:04:47] DEBUG: Assigned street to Customer\n",
      "[2024-01-31 08:04:47] DEBUG: Assigned house_number to Customer\n",
      "[2024-01-31 08:04:47] DEBUG: Assigned zip to Customer\n",
      "[2024-01-31 08:04:47] DEBUG: Assigned city to Customer\n",
      "[2024-01-31 08:04:47] DEBUG: Created new class Product\n",
      "[2024-01-31 08:04:47] DEBUG: Assigned name to Product\n",
      "[2024-01-31 08:04:47] DEBUG: Assigned price to Product\n",
      "[2024-01-31 08:04:47] DEBUG: Created new class OrderPosition\n",
      "[2024-01-31 08:04:47] DEBUG: Assigned amount to OrderPosition\n",
      "[2024-01-31 08:04:47] DEBUG: Assigned price to OrderPosition\n",
      "[2024-01-31 08:04:47] DEBUG: Created new reference position_to_product between class OrderPosition and Product\n",
      "[2024-01-31 08:04:47] DEBUG: Created new class Order\n",
      "[2024-01-31 08:04:47] DEBUG: Assigned creation_time to Order\n",
      "[2024-01-31 08:04:47] DEBUG: Assigned price to Order\n",
      "[2024-01-31 08:04:47] DEBUG: Created new reference order_to_customer between class Order and Customer\n",
      "[2024-01-31 08:04:47] DEBUG: Created new reference order_to_positions between class Order and OrderPosition\n",
      "[2024-01-31 08:04:47] DEBUG: Structure built\n"
     ]
    }
   ],
   "source": [
    "# Datenbank löschen (wenn existiert)\n",
    "if os.path.exists(FILENAME_DATABASE):\n",
    "    os.remove(FILENAME_DATABASE)\n",
    "\n",
    "# Datenmodell einspielen\n",
    "with get_interface() as interface:\n",
    "    interface.setup()\n",
    "    interpreter = Interpreter(interface)\n",
    "    with open(FILENAME_STRUCTURE, 'r') as file:\n",
    "        interpreter.run(file.read())\n",
    "    interface.commit()"
   ]
  },
  {
   "attachments": {},
   "cell_type": "markdown",
   "metadata": {},
   "source": [
    "### Kunden einfügen"
   ]
  },
  {
   "cell_type": "code",
   "execution_count": 3,
   "metadata": {},
   "outputs": [
    {
     "name": "stdout",
     "output_type": "stream",
     "text": [
      "{'first_name': 'Ottilie', 'last_name': 'Koch', 'birthday': datetime.date(2008, 9, 18), 'street': 'Schröderstraße', 'house_number': '455c', 'zip': '44763', 'city': 'Fuchsdorf'}\n"
     ]
    }
   ],
   "source": [
    "rd.set_seed(2024)\n",
    "\n",
    "def get_random_customer():\n",
    "    customer = rd.get_random_person()\n",
    "    customer.update(rd.get_random_address())\n",
    "    return customer\n",
    "\n",
    "print(get_random_customer())"
   ]
  },
  {
   "cell_type": "code",
   "execution_count": 4,
   "metadata": {},
   "outputs": [
    {
     "name": "stdout",
     "output_type": "stream",
     "text": [
      "Inserted 100 customers\n"
     ]
    }
   ],
   "source": [
    "n_customers = 100\n",
    "customer_ids = []\n",
    "with get_interface() as interface:\n",
    "    for i in range(n_customers):\n",
    "        customer_ids.append(interface.create_object('Customer', **get_random_customer()).id)\n",
    "    interface.commit()\n",
    "print(f\"Inserted {n_customers} customers\")"
   ]
  },
  {
   "attachments": {},
   "cell_type": "markdown",
   "metadata": {},
   "source": [
    "### Produkte einfügen"
   ]
  },
  {
   "cell_type": "code",
   "execution_count": 5,
   "metadata": {},
   "outputs": [
    {
     "name": "stdout",
     "output_type": "stream",
     "text": [
      "Inserted 12 products\n"
     ]
    }
   ],
   "source": [
    "product_ids = []\n",
    "products = [\n",
    "    ['Rennrad', Decimal('995.99')],\n",
    "    ['BMX', Decimal('195.99')],\n",
    "    ['Hollandrad', Decimal('249.99')],\n",
    "    ['Tourenrad', Decimal('549.99')],\n",
    "    ['Kette', Decimal('19.99')],\n",
    "    ['Klingel', Decimal('5.99')],\n",
    "    ['Schlauch 28 Zoll', Decimal('7.99')],\n",
    "    ['Schlauch 26 Zoll', Decimal('7.49')],\n",
    "    ['Reifen 28 Zoll', Decimal('18.99')],\n",
    "    ['Reifen 26 Zoll', Decimal('17.99')],\n",
    "    ['Kettenfett', Decimal('3.99')],\n",
    "    ['Helm', Decimal('144.99')]\n",
    "]\n",
    "with get_interface() as interface:\n",
    "    for p in products:\n",
    "        product_ids.append(interface.create_object('Product', name=p[0], price=p[1]).id)\n",
    "    interface.commit()\n",
    "print(f\"Inserted {len(products)} products\")"
   ]
  },
  {
   "attachments": {},
   "cell_type": "markdown",
   "metadata": {},
   "source": [
    "### Bestellungen einfügen"
   ]
  },
  {
   "cell_type": "code",
   "execution_count": 6,
   "metadata": {},
   "outputs": [
    {
     "name": "stdout",
     "output_type": "stream",
     "text": [
      "Ottilie Fischer bought 10 products\n",
      "Heidi Hahn bought 6 products\n",
      "Doris Schmidt bought 6 products\n",
      "Melanie Koch bought 8 products\n",
      "Uwe Schmid bought 1 products\n",
      "Quentin Richter bought 9 products\n",
      "Vivien Bauer bought 7 products\n",
      "Clemens Becker bought 8 products\n",
      "Gerhard Schröder bought 8 products\n",
      "Franz Lehmann bought 10 products\n",
      "Stefan Wolf bought 7 products\n",
      "Quentin Schäfer bought 4 products\n",
      "Gerhard Hahn bought 7 products\n",
      "Anne Peters bought 6 products\n",
      "Nicolas König bought 8 products\n",
      "Vivien Lang bought 1 products\n",
      "Emil Fuchs bought 3 products\n",
      "Bert Schmid bought 3 products\n",
      "Julian Neumann bought 1 products\n",
      "Walter Lang bought 2 products\n",
      "Inga Braun bought 2 products\n",
      "Katrin Huber bought 10 products\n",
      "Clemens Krüger bought 9 products\n",
      "Ottilie Schmitt bought 2 products\n",
      "Uwe Scholz bought 3 products\n",
      "Inga Braun bought 2 products\n",
      "Tanja Peters bought 2 products\n",
      "Ottilie Schmitt bought 10 products\n",
      "Katrin Huber bought 9 products\n",
      "Ottilie Schmitt bought 8 products\n",
      "Clemens Becker bought 9 products\n",
      "Franz Fuchs bought 4 products\n",
      "Stefan Hoffmann bought 1 products\n",
      "Nils Braun bought 7 products\n",
      "Stefan Hoffmann bought 4 products\n",
      "Rita Fuchs bought 2 products\n",
      "Gerhard Huber bought 10 products\n",
      "Tanja Bauer bought 3 products\n",
      "Walter Schwarz bought 5 products\n",
      "Walter Lang bought 1 products\n"
     ]
    }
   ],
   "source": [
    "n_orders = 40\n",
    "order_ids = []\n",
    "with get_interface() as interface:\n",
    "    for i in range(n_orders):\n",
    "        n_products = random.randint(1, 10)\n",
    "\n",
    "        # Bestellung erstellen und Kunde verknüpfen\n",
    "        customer = interface.get_object(random.choice(customer_ids))\n",
    "        order = interface.create_object('Order', creation_time=datetime.now())\n",
    "        order.bind('order_to_customer', [customer])\n",
    "\n",
    "        # Positionen verknüpfen\n",
    "        positions = []\n",
    "        for k in range(n_products):\n",
    "            product = interface.get_object(random.choice(product_ids))\n",
    "            position = interface.create_object('OrderPosition', amount=random.randint(1, 10))\n",
    "            position.bind('position_to_product', [product])\n",
    "            positions.append(position)\n",
    "        order.bind('order_to_positions', positions)\n",
    "        order_ids.append(order.id)\n",
    "\n",
    "        print(f\"{customer['full_name']} bought {n_products} products\")\n",
    "    interface.commit()"
   ]
  },
  {
   "attachments": {},
   "cell_type": "markdown",
   "metadata": {},
   "source": [
    "### Bestellung anzeigen"
   ]
  },
  {
   "cell_type": "code",
   "execution_count": 8,
   "metadata": {},
   "outputs": [
    {
     "name": "stdout",
     "output_type": "stream",
     "text": [
      "Order 113:\n",
      "  price = 6901.93\n",
      "  creation_time = 2024-01-31 08:04:47 \n",
      "\n",
      "Customer 91:\n",
      "  first_name = Ottilie\n",
      "  last_name = Fischer\n",
      "  full_name = Ottilie Fischer\n",
      "  birthday = 1955-09-22\n",
      "  street = Huberstraße\n",
      "  house_number = 314\n",
      "  zip = 76237\n",
      "  city = Herrmanndorf \n",
      "\n",
      "1x Rennrad\n",
      "4x Schlauch 28 Zoll\n",
      "5x Hollandrad\n",
      "10x Schlauch 28 Zoll\n",
      "7x Schlauch 26 Zoll\n",
      "1x Kette\n",
      "8x Helm\n",
      "3x Rennrad\n",
      "10x Reifen 26 Zoll\n",
      "8x Reifen 26 Zoll\n"
     ]
    },
    {
     "ename": "KeyboardInterrupt",
     "evalue": "",
     "output_type": "error",
     "traceback": [
      "\u001b[1;31m---------------------------------------------------------------------------\u001b[0m",
      "\u001b[1;31mKeyboardInterrupt\u001b[0m                         Traceback (most recent call last)",
      "Cell \u001b[1;32mIn[8], line 16\u001b[0m\n\u001b[0;32m     13\u001b[0m     \u001b[38;5;28mprint\u001b[39m(\u001b[38;5;124mf\u001b[39m\u001b[38;5;124m\"\u001b[39m\u001b[38;5;132;01m{\u001b[39;00mposition[\u001b[38;5;124m'\u001b[39m\u001b[38;5;124mamount\u001b[39m\u001b[38;5;124m'\u001b[39m]\u001b[38;5;132;01m}\u001b[39;00m\u001b[38;5;124mx \u001b[39m\u001b[38;5;132;01m{\u001b[39;00mposition\u001b[38;5;241m.\u001b[39mhop(\u001b[38;5;124m'\u001b[39m\u001b[38;5;124mposition_to_product\u001b[39m\u001b[38;5;124m'\u001b[39m)[\u001b[38;5;241m0\u001b[39m][\u001b[38;5;124m'\u001b[39m\u001b[38;5;124mname\u001b[39m\u001b[38;5;124m'\u001b[39m]\u001b[38;5;132;01m}\u001b[39;00m\u001b[38;5;124m\"\u001b[39m)\n\u001b[0;32m     15\u001b[0m df \u001b[38;5;241m=\u001b[39m positions\u001b[38;5;241m.\u001b[39mhop(\u001b[38;5;124m'\u001b[39m\u001b[38;5;124mposition_to_product\u001b[39m\u001b[38;5;124m'\u001b[39m)\u001b[38;5;241m.\u001b[39mget_dataframe()\n\u001b[1;32m---> 16\u001b[0m expensive_positions \u001b[38;5;241m=\u001b[39m positions\u001b[38;5;241m.\u001b[39mfilter(\u001b[43mpositions\u001b[49m\u001b[38;5;241;43m.\u001b[39;49m\u001b[43mget_column\u001b[49m\u001b[43m(\u001b[49m\u001b[38;5;124;43m'\u001b[39;49m\u001b[38;5;124;43mprice\u001b[39;49m\u001b[38;5;124;43m'\u001b[39;49m\u001b[43m)\u001b[49m \u001b[38;5;241m>\u001b[39m \u001b[38;5;241m150\u001b[39m)\n\u001b[0;32m     17\u001b[0m df_expensive \u001b[38;5;241m=\u001b[39m expensive_positions\u001b[38;5;241m.\u001b[39mget_dataframe()\n",
      "File \u001b[1;32mc:\\Users\\nilsh\\Documents\\Python Projekte\\SQLite_ODATI\\control.py:287\u001b[0m, in \u001b[0;36mObjectList.get_column\u001b[1;34m(self, attribute_name)\u001b[0m\n\u001b[0;32m    286\u001b[0m \u001b[38;5;28;01mdef\u001b[39;00m \u001b[38;5;21mget_column\u001b[39m(\u001b[38;5;28mself\u001b[39m, attribute_name: \u001b[38;5;28mstr\u001b[39m) \u001b[38;5;241m-\u001b[39m\u001b[38;5;241m>\u001b[39m pd\u001b[38;5;241m.\u001b[39mSeries:\n\u001b[1;32m--> 287\u001b[0m     \u001b[38;5;28;01mreturn\u001b[39;00m \u001b[38;5;28;43mself\u001b[39;49m\u001b[38;5;241;43m.\u001b[39;49m\u001b[43mget_dataframe\u001b[49m\u001b[43m(\u001b[49m\u001b[43m[\u001b[49m\u001b[43mattribute_name\u001b[49m\u001b[43m]\u001b[49m\u001b[43m)\u001b[49m[attribute_name]\n",
      "File \u001b[1;32mc:\\Users\\nilsh\\Documents\\Python Projekte\\SQLite_ODATI\\control.py:296\u001b[0m, in \u001b[0;36mObjectList.get_dataframe\u001b[1;34m(self, attribute_names)\u001b[0m\n\u001b[0;32m    294\u001b[0m \u001b[38;5;28;01mif\u001b[39;00m \u001b[38;5;28mself\u001b[39m\u001b[38;5;241m.\u001b[39mmodified:\n\u001b[0;32m    295\u001b[0m     \u001b[38;5;28mself\u001b[39m\u001b[38;5;241m.\u001b[39m__update__dataframe__()\n\u001b[1;32m--> 296\u001b[0m \u001b[38;5;28;01mif\u001b[39;00m \u001b[38;5;28;43mlen\u001b[39;49m(attribute_names) \u001b[38;5;241m>\u001b[39m \u001b[38;5;241m0\u001b[39m:\n\u001b[0;32m    297\u001b[0m     \u001b[38;5;28;01mreturn\u001b[39;00m \u001b[38;5;28mself\u001b[39m\u001b[38;5;241m.\u001b[39m__dataframe__[attribute_names]\n\u001b[0;32m    298\u001b[0m \u001b[38;5;28;01melse\u001b[39;00m:\n",
      "File \u001b[1;32mc:\\Users\\nilsh\\Documents\\Python Projekte\\SQLite_ODATI\\control.py:296\u001b[0m, in \u001b[0;36mObjectList.get_dataframe\u001b[1;34m(self, attribute_names)\u001b[0m\n\u001b[0;32m    294\u001b[0m \u001b[38;5;28;01mif\u001b[39;00m \u001b[38;5;28mself\u001b[39m\u001b[38;5;241m.\u001b[39mmodified:\n\u001b[0;32m    295\u001b[0m     \u001b[38;5;28mself\u001b[39m\u001b[38;5;241m.\u001b[39m__update__dataframe__()\n\u001b[1;32m--> 296\u001b[0m \u001b[38;5;28;01mif\u001b[39;00m \u001b[38;5;28;43mlen\u001b[39;49m(attribute_names) \u001b[38;5;241m>\u001b[39m \u001b[38;5;241m0\u001b[39m:\n\u001b[0;32m    297\u001b[0m     \u001b[38;5;28;01mreturn\u001b[39;00m \u001b[38;5;28mself\u001b[39m\u001b[38;5;241m.\u001b[39m__dataframe__[attribute_names]\n\u001b[0;32m    298\u001b[0m \u001b[38;5;28;01melse\u001b[39;00m:\n",
      "File \u001b[1;32m_pydevd_bundle/pydevd_cython.pyx:1457\u001b[0m, in \u001b[0;36m_pydevd_bundle.pydevd_cython.SafeCallWrapper.__call__\u001b[1;34m()\u001b[0m\n",
      "File \u001b[1;32m_pydevd_bundle/pydevd_cython.pyx:701\u001b[0m, in \u001b[0;36m_pydevd_bundle.pydevd_cython.PyDBFrame.trace_dispatch\u001b[1;34m()\u001b[0m\n",
      "File \u001b[1;32m_pydevd_bundle/pydevd_cython.pyx:1152\u001b[0m, in \u001b[0;36m_pydevd_bundle.pydevd_cython.PyDBFrame.trace_dispatch\u001b[1;34m()\u001b[0m\n",
      "File \u001b[1;32m_pydevd_bundle/pydevd_cython.pyx:1135\u001b[0m, in \u001b[0;36m_pydevd_bundle.pydevd_cython.PyDBFrame.trace_dispatch\u001b[1;34m()\u001b[0m\n",
      "File \u001b[1;32m_pydevd_bundle/pydevd_cython.pyx:312\u001b[0m, in \u001b[0;36m_pydevd_bundle.pydevd_cython.PyDBFrame.do_wait_suspend\u001b[1;34m()\u001b[0m\n",
      "File \u001b[1;32mc:\\Users\\nilsh\\Documents\\Python Projekte\\SQLite_ODATI\\.venv\\lib\\site-packages\\debugpy\\_vendored\\pydevd\\pydevd.py:2070\u001b[0m, in \u001b[0;36mPyDB.do_wait_suspend\u001b[1;34m(self, thread, frame, event, arg, exception_type)\u001b[0m\n\u001b[0;32m   2067\u001b[0m             from_this_thread\u001b[38;5;241m.\u001b[39mappend(frame_custom_thread_id)\n\u001b[0;32m   2069\u001b[0m     \u001b[38;5;28;01mwith\u001b[39;00m \u001b[38;5;28mself\u001b[39m\u001b[38;5;241m.\u001b[39m_threads_suspended_single_notification\u001b[38;5;241m.\u001b[39mnotify_thread_suspended(thread_id, thread, stop_reason):\n\u001b[1;32m-> 2070\u001b[0m         keep_suspended \u001b[38;5;241m=\u001b[39m \u001b[38;5;28;43mself\u001b[39;49m\u001b[38;5;241;43m.\u001b[39;49m\u001b[43m_do_wait_suspend\u001b[49m\u001b[43m(\u001b[49m\u001b[43mthread\u001b[49m\u001b[43m,\u001b[49m\u001b[43m \u001b[49m\u001b[43mframe\u001b[49m\u001b[43m,\u001b[49m\u001b[43m \u001b[49m\u001b[43mevent\u001b[49m\u001b[43m,\u001b[49m\u001b[43m \u001b[49m\u001b[43marg\u001b[49m\u001b[43m,\u001b[49m\u001b[43m \u001b[49m\u001b[43msuspend_type\u001b[49m\u001b[43m,\u001b[49m\u001b[43m \u001b[49m\u001b[43mfrom_this_thread\u001b[49m\u001b[43m,\u001b[49m\u001b[43m \u001b[49m\u001b[43mframes_tracker\u001b[49m\u001b[43m)\u001b[49m\n\u001b[0;32m   2072\u001b[0m frames_list \u001b[38;5;241m=\u001b[39m \u001b[38;5;28;01mNone\u001b[39;00m\n\u001b[0;32m   2074\u001b[0m \u001b[38;5;28;01mif\u001b[39;00m keep_suspended:\n\u001b[0;32m   2075\u001b[0m     \u001b[38;5;66;03m# This means that we should pause again after a set next statement.\u001b[39;00m\n",
      "File \u001b[1;32mc:\\Users\\nilsh\\Documents\\Python Projekte\\SQLite_ODATI\\.venv\\lib\\site-packages\\debugpy\\_vendored\\pydevd\\pydevd.py:2106\u001b[0m, in \u001b[0;36mPyDB._do_wait_suspend\u001b[1;34m(self, thread, frame, event, arg, suspend_type, from_this_thread, frames_tracker)\u001b[0m\n\u001b[0;32m   2103\u001b[0m         \u001b[38;5;28mself\u001b[39m\u001b[38;5;241m.\u001b[39m_call_input_hook()\n\u001b[0;32m   2105\u001b[0m     \u001b[38;5;28mself\u001b[39m\u001b[38;5;241m.\u001b[39mprocess_internal_commands()\n\u001b[1;32m-> 2106\u001b[0m     \u001b[43mtime\u001b[49m\u001b[38;5;241;43m.\u001b[39;49m\u001b[43msleep\u001b[49m\u001b[43m(\u001b[49m\u001b[38;5;241;43m0.01\u001b[39;49m\u001b[43m)\u001b[49m\n\u001b[0;32m   2108\u001b[0m \u001b[38;5;28mself\u001b[39m\u001b[38;5;241m.\u001b[39mcancel_async_evaluation(get_current_thread_id(thread), \u001b[38;5;28mstr\u001b[39m(\u001b[38;5;28mid\u001b[39m(frame)))\n\u001b[0;32m   2110\u001b[0m \u001b[38;5;66;03m# process any stepping instructions\u001b[39;00m\n",
      "\u001b[1;31mKeyboardInterrupt\u001b[0m: "
     ]
    }
   ],
   "source": [
    "with get_interface() as interface:\n",
    "    # Bestellung\n",
    "    order = interface.get_object(random.choice(order_ids))\n",
    "    print(order.dump(), '\\n')\n",
    "\n",
    "    # Kunde\n",
    "    customer = order.hop('order_to_customer')[0]\n",
    "    print(customer.dump(), '\\n')\n",
    "\n",
    "    # Produkte\n",
    "    positions = order.hop('order_to_positions')\n",
    "    for position in positions:\n",
    "        print(f\"{position['amount']}x {position.hop('position_to_product')[0]['name']}\")\n",
    "\n",
    "    df = positions.hop('position_to_product').get_dataframe()\n",
    "    expensive_positions = positions.filter(positions.get_column('price') > 150)\n",
    "    df_expensive = expensive_positions.get_dataframe()"
   ]
  },
  {
   "cell_type": "code",
   "execution_count": null,
   "metadata": {},
   "outputs": [
    {
     "data": {
      "text/html": [
       "<div>\n",
       "<style scoped>\n",
       "    .dataframe tbody tr th:only-of-type {\n",
       "        vertical-align: middle;\n",
       "    }\n",
       "\n",
       "    .dataframe tbody tr th {\n",
       "        vertical-align: top;\n",
       "    }\n",
       "\n",
       "    .dataframe thead th {\n",
       "        text-align: right;\n",
       "    }\n",
       "</style>\n",
       "<table border=\"1\" class=\"dataframe\">\n",
       "  <thead>\n",
       "    <tr style=\"text-align: right;\">\n",
       "      <th></th>\n",
       "      <th>price</th>\n",
       "      <th>name</th>\n",
       "    </tr>\n",
       "    <tr>\n",
       "      <th>id</th>\n",
       "      <th></th>\n",
       "      <th></th>\n",
       "    </tr>\n",
       "  </thead>\n",
       "  <tbody>\n",
       "    <tr>\n",
       "      <th>102</th>\n",
       "      <td>195.99</td>\n",
       "      <td>BMX</td>\n",
       "    </tr>\n",
       "    <tr>\n",
       "      <th>103</th>\n",
       "      <td>249.99</td>\n",
       "      <td>Hollandrad</td>\n",
       "    </tr>\n",
       "  </tbody>\n",
       "</table>\n",
       "</div>"
      ],
      "text/plain": [
       "      price        name\n",
       "id                     \n",
       "102  195.99         BMX\n",
       "103  249.99  Hollandrad"
      ]
     },
     "execution_count": 8,
     "metadata": {},
     "output_type": "execute_result"
    }
   ],
   "source": [
    "df_expensive.head(20)"
   ]
  }
 ],
 "metadata": {
  "kernelspec": {
   "display_name": ".venv",
   "language": "python",
   "name": "python3"
  },
  "language_info": {
   "codemirror_mode": {
    "name": "ipython",
    "version": 3
   },
   "file_extension": ".py",
   "mimetype": "text/x-python",
   "name": "python",
   "nbconvert_exporter": "python",
   "pygments_lexer": "ipython3",
   "version": "3.10.4"
  },
  "orig_nbformat": 4
 },
 "nbformat": 4,
 "nbformat_minor": 2
}
