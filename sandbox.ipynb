{
 "cells": [
  {
   "cell_type": "code",
   "execution_count": 1,
   "metadata": {},
   "outputs": [],
   "source": [
    "from interface import ObjectInterface\n",
    "import numpy as np\n",
    "import utils\n",
    "\n",
    "FILENAME_DATABASE = 'data/database.db'\n",
    "\n",
    "def get_interface() -> ObjectInterface:\n",
    "    interface = ObjectInterface(FILENAME_DATABASE)\n",
    "    interface.connect()\n",
    "    return interface"
   ]
  },
  {
   "cell_type": "code",
   "execution_count": 2,
   "metadata": {},
   "outputs": [
    {
     "name": "stdout",
     "output_type": "stream",
     "text": [
      "{'first_name': 'Anne', 'last_name': 'Fischer', 'birthday': '1997-03-25'}\n",
      "1997-03-25 <class 'datetime.date'>\n"
     ]
    }
   ],
   "source": [
    "with get_interface() as interface:\n",
    "    obj = interface.get_object(1)\n",
    "    print(obj.attributes)\n",
    "    birthday = obj['birthday']\n",
    "    print(birthday, type(birthday))"
   ]
  },
  {
   "cell_type": "code",
   "execution_count": 2,
   "metadata": {},
   "outputs": [
    {
     "name": "stdout",
     "output_type": "stream",
     "text": [
      "Error executing access transformer: Failed to interpret file <_io.BytesIO object at 0x0000020C5697BA10> as a pickle\n",
      "None\n"
     ]
    }
   ],
   "source": [
    "with get_interface() as interface:\n",
    "    obj = interface.create_object(interface.get_class(name='ArrayData'), some_numbers=np.arange(10).reshape((2, -1)))\n",
    "    interface.commit()\n",
    "    array = obj['some_numbers']\n",
    "    print(array)"
   ]
  },
  {
   "cell_type": "code",
   "execution_count": 4,
   "metadata": {},
   "outputs": [
    {
     "name": "stdout",
     "output_type": "stream",
     "text": [
      "[[0 1 2 3 4]\n",
      " [5 6 7 8 9]]\n",
      "b\"\\x93NUMPY\\x01\\x00v\\x00{'descr': '<i4', 'fortran_order': False, 'shape': (2, 5), }                                                          \\n\\x00\\x00\\x00\\x00\\x01\\x00\\x00\\x00\\x02\\x00\\x00\\x00\\x03\\x00\\x00\\x00\\x04\\x00\\x00\\x00\\x05\\x00\\x00\\x00\\x06\\x00\\x00\\x00\\x07\\x00\\x00\\x00\\x08\\x00\\x00\\x00\\t\\x00\\x00\\x00\"\n",
      "[[0 1 2 3 4]\n",
      " [5 6 7 8 9]]\n"
     ]
    }
   ],
   "source": [
    "arr = np.arange(10).reshape((2, -1))\n",
    "arr_bytes = utils.array_to_bytes(arr)\n",
    "print(arr)\n",
    "print(arr_bytes)\n",
    "\n",
    "loaded_arr = utils.bytes_to_array(arr_bytes)\n",
    "print(loaded_arr)"
   ]
  }
 ],
 "metadata": {
  "kernelspec": {
   "display_name": ".venv",
   "language": "python",
   "name": "python3"
  },
  "language_info": {
   "codemirror_mode": {
    "name": "ipython",
    "version": 3
   },
   "file_extension": ".py",
   "mimetype": "text/x-python",
   "name": "python",
   "nbconvert_exporter": "python",
   "pygments_lexer": "ipython3",
   "version": "3.10.4"
  },
  "orig_nbformat": 4
 },
 "nbformat": 4,
 "nbformat_minor": 2
}
