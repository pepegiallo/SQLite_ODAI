{
 "cells": [
  {
   "cell_type": "code",
   "execution_count": 7,
   "metadata": {},
   "outputs": [],
   "source": [
    "from interface import ObjectInterface\n",
    "from ddl import Interpreter\n",
    "import utils\n",
    "import logging\n",
    "import os\n",
    "import examples.randomdata as rd\n",
    "from decimal import Decimal\n",
    "import random\n",
    "\n",
    "FILENAME_DATABASE = 'data/database.db'\n",
    "FILENAME_STRUCTURE = 'setup/example_structure.ddl'\n",
    "logging.basicConfig(format='[%(asctime)s] %(levelname)s: %(message)s', datefmt='%Y-%m-%d %H:%M:%S', level=logging.DEBUG)\n",
    "\n",
    "def get_interface() -> ObjectInterface:\n",
    "    interface = ObjectInterface(FILENAME_DATABASE)\n",
    "    interface.connect()\n",
    "    return interface"
   ]
  },
  {
   "cell_type": "markdown",
   "metadata": {},
   "source": [
    "### Datenbank neu aufsetzen und Datenmodell einspielen"
   ]
  },
  {
   "cell_type": "code",
   "execution_count": 8,
   "metadata": {},
   "outputs": [
    {
     "name": "stderr",
     "output_type": "stream",
     "text": [
      "[2024-01-25 17:21:33] DEBUG: Setup successful\n",
      "[2024-01-25 17:21:33] DEBUG: Created datatype void (TINYINT, no read transformer, no write transformer)\n",
      "[2024-01-25 17:21:33] DEBUG: Created datatype int (INTEGER, no read transformer, no write transformer)\n",
      "[2024-01-25 17:21:33] DEBUG: Created datatype shorttext (VARCHAR(64), no read transformer, no write transformer)\n",
      "[2024-01-25 17:21:33] DEBUG: Created datatype longtext (VARCHAR(256), no read transformer, no write transformer)\n",
      "[2024-01-25 17:21:33] DEBUG: Created datatype text (TEXT, no read transformer, no write transformer)\n",
      "[2024-01-25 17:21:33] DEBUG: Created datatype date (DATE, read transformer, write transformer)\n",
      "[2024-01-25 17:21:33] DEBUG: Created datatype datetime (DATETIME, read transformer, write transformer)\n",
      "[2024-01-25 17:21:33] DEBUG: Created datatype array (BLOB, read transformer, write transformer)\n",
      "[2024-01-25 17:21:33] DEBUG: Created datatype zipcode (VARCHAR(5), no read transformer, no write transformer)\n",
      "[2024-01-25 17:21:33] DEBUG: Created datatype currency2 (INTEGER, read transformer, write transformer)\n",
      "[2024-01-25 17:21:33] DEBUG: Created new attribute first_name\n",
      "[2024-01-25 17:21:33] DEBUG: Created new attribute last_name\n",
      "[2024-01-25 17:21:33] DEBUG: Created new attribute full_name\n",
      "[2024-01-25 17:21:33] DEBUG: Created new attribute number\n",
      "[2024-01-25 17:21:33] DEBUG: Created new attribute street\n",
      "[2024-01-25 17:21:33] DEBUG: Created new attribute house_number\n",
      "[2024-01-25 17:21:33] DEBUG: Created new attribute zip\n",
      "[2024-01-25 17:21:33] DEBUG: Created new attribute city\n",
      "[2024-01-25 17:21:33] DEBUG: Created new attribute price\n",
      "[2024-01-25 17:21:33] DEBUG: Created new attribute creation_time\n",
      "[2024-01-25 17:21:33] DEBUG: Created new attribute name\n",
      "[2024-01-25 17:21:33] DEBUG: Created new attribute amount\n",
      "[2024-01-25 17:21:33] DEBUG: Created new attribute birthday\n",
      "[2024-01-25 17:21:33] DEBUG: Created new class Person\n",
      "[2024-01-25 17:21:33] DEBUG: Assigned first_name to Person\n",
      "[2024-01-25 17:21:33] DEBUG: Assigned last_name to Person\n",
      "[2024-01-25 17:21:33] DEBUG: Assigned full_name to Person\n"
     ]
    },
    {
     "name": "stderr",
     "output_type": "stream",
     "text": [
      "[2024-01-25 17:21:33] DEBUG: Assigned birthday to Person\n",
      "[2024-01-25 17:21:33] DEBUG: Created new class Customer as subclass of Person\n",
      "[2024-01-25 17:21:33] DEBUG: Assigned street to Customer\n",
      "[2024-01-25 17:21:33] DEBUG: Assigned house_number to Customer\n",
      "[2024-01-25 17:21:33] DEBUG: Assigned zip to Customer\n",
      "[2024-01-25 17:21:33] DEBUG: Assigned city to Customer\n",
      "[2024-01-25 17:21:33] DEBUG: Created new class Product\n",
      "[2024-01-25 17:21:33] DEBUG: Assigned name to Product\n",
      "[2024-01-25 17:21:33] DEBUG: Assigned price to Product\n",
      "[2024-01-25 17:21:33] DEBUG: Created new class OrderPosition\n",
      "[2024-01-25 17:21:33] DEBUG: Assigned amount to OrderPosition\n",
      "[2024-01-25 17:21:33] DEBUG: Created new reference position_to_product between class OrderPosition and Product\n",
      "[2024-01-25 17:21:33] DEBUG: Created new class Order\n",
      "[2024-01-25 17:21:33] DEBUG: Assigned creation_time to Order\n",
      "[2024-01-25 17:21:33] DEBUG: Created new reference order_to_customer between class Order and Customer\n",
      "[2024-01-25 17:21:33] DEBUG: Created new reference order_to_positions between class Order and OrderPosition\n",
      "[2024-01-25 17:21:33] DEBUG: Structure built\n"
     ]
    }
   ],
   "source": [
    "# Datenbank löschen (wenn existiert)\n",
    "if os.path.exists(FILENAME_DATABASE):\n",
    "    os.remove(FILENAME_DATABASE)\n",
    "\n",
    "# Datenmodell einspielen\n",
    "with get_interface() as interface:\n",
    "    interface.setup()\n",
    "    interpreter = Interpreter(interface)\n",
    "    with open(FILENAME_STRUCTURE, 'r') as file:\n",
    "        interpreter.run(file.read())\n",
    "    interface.commit()"
   ]
  },
  {
   "cell_type": "markdown",
   "metadata": {},
   "source": [
    "### Kunden einfügen"
   ]
  },
  {
   "cell_type": "code",
   "execution_count": 9,
   "metadata": {},
   "outputs": [
    {
     "name": "stdout",
     "output_type": "stream",
     "text": [
      "{'first_name': 'Ottilie', 'last_name': 'Koch', 'birthday': datetime.date(2008, 9, 18), 'street': 'Schröderstraße', 'house_number': '455c', 'zip': '44763', 'city': 'Fuchsdorf'}\n"
     ]
    }
   ],
   "source": [
    "rd.set_seed(2024)\n",
    "\n",
    "def get_random_customer():\n",
    "    customer = rd.get_random_person()\n",
    "    customer.update(rd.get_random_address())\n",
    "    return customer\n",
    "\n",
    "print(get_random_customer())"
   ]
  },
  {
   "cell_type": "code",
   "execution_count": 10,
   "metadata": {},
   "outputs": [
    {
     "name": "stdout",
     "output_type": "stream",
     "text": [
      "Inserted 100 customers\n"
     ]
    }
   ],
   "source": [
    "n_customers = 100\n",
    "customer_ids = []\n",
    "with get_interface() as interface:\n",
    "    c_customer = interface.get_class(name='Customer')\n",
    "    for i in range(n_customers):\n",
    "        customer_ids.append(interface.create_object(c_customer, **get_random_customer()).id)\n",
    "print(f\"Inserted {n_customers} customers\")"
   ]
  },
  {
   "cell_type": "markdown",
   "metadata": {},
   "source": [
    "### Produkte einfügen"
   ]
  },
  {
   "cell_type": "code",
   "execution_count": 11,
   "metadata": {},
   "outputs": [
    {
     "name": "stdout",
     "output_type": "stream",
     "text": [
      "Inserted 12 products\n"
     ]
    }
   ],
   "source": [
    "product_ids = []\n",
    "products = [\n",
    "    ['Rennrad', Decimal('995.99')],\n",
    "    ['BMX', Decimal('195.99')],\n",
    "    ['Hollandrad', Decimal('249.99')],\n",
    "    ['Tourenrad', Decimal('549.99')],\n",
    "    ['Kette', Decimal('19.99')],\n",
    "    ['Klingel', Decimal('5.99')],\n",
    "    ['Schlauch 28 Zoll', Decimal('7.99')],\n",
    "    ['Schlauch 26 Zoll', Decimal('7.49')],\n",
    "    ['Reifen 28 Zoll', Decimal('18.99')],\n",
    "    ['Reifen 26 Zoll', Decimal('17.99')],\n",
    "    ['Kettenfett', Decimal('3.99')],\n",
    "    ['Helm', Decimal('144.99')]\n",
    "]\n",
    "with get_interface() as interface:\n",
    "    c_product = interface.get_class(name='Product')\n",
    "    for p in products:\n",
    "        product_ids.append(interface.create_object(c_product, name=p[0], price=p[1]).id)\n",
    "print(f\"Inserted {len(products)} products\")"
   ]
  },
  {
   "cell_type": "markdown",
   "metadata": {},
   "source": [
    "### Bestellungen einfügen"
   ]
  },
  {
   "cell_type": "code",
   "execution_count": 14,
   "metadata": {},
   "outputs": [
    {
     "ename": "AttributeError",
     "evalue": "'NoneType' object has no attribute 'id'",
     "output_type": "error",
     "traceback": [
      "\u001b[1;31m---------------------------------------------------------------------------\u001b[0m",
      "\u001b[1;31mAttributeError\u001b[0m                            Traceback (most recent call last)",
      "Cell \u001b[1;32mIn[14], line 14\u001b[0m\n\u001b[0;32m     12\u001b[0m customer \u001b[38;5;241m=\u001b[39m interface\u001b[38;5;241m.\u001b[39mget_object(random\u001b[38;5;241m.\u001b[39mchoice(customer_ids))\n\u001b[0;32m     13\u001b[0m order \u001b[38;5;241m=\u001b[39m interface\u001b[38;5;241m.\u001b[39mcreate_object(c_order)\n\u001b[1;32m---> 14\u001b[0m \u001b[43morder\u001b[49m\u001b[38;5;241;43m.\u001b[39;49m\u001b[43mbind\u001b[49m\u001b[43m(\u001b[49m\u001b[43mref_customer\u001b[49m\u001b[43m,\u001b[49m\u001b[43m \u001b[49m\u001b[43m[\u001b[49m\u001b[43mcustomer\u001b[49m\u001b[43m]\u001b[49m\u001b[43m)\u001b[49m\n\u001b[0;32m     16\u001b[0m \u001b[38;5;66;03m# Positionen verknüpfen\u001b[39;00m\n\u001b[0;32m     17\u001b[0m positions \u001b[38;5;241m=\u001b[39m []\n",
      "File \u001b[1;32mc:\\Users\\nilsh\\Documents\\Python Projekte\\SQLite_ODATI\\control.py:182\u001b[0m, in \u001b[0;36mObject.bind\u001b[1;34m(self, reference, targets, rebind)\u001b[0m\n\u001b[0;32m    181\u001b[0m \u001b[38;5;28;01mdef\u001b[39;00m \u001b[38;5;21mbind\u001b[39m(\u001b[38;5;28mself\u001b[39m, reference: Reference, targets: \u001b[38;5;28mlist\u001b[39m, rebind: \u001b[38;5;28mbool\u001b[39m \u001b[38;5;241m=\u001b[39m \u001b[38;5;28;01mFalse\u001b[39;00m):\n\u001b[1;32m--> 182\u001b[0m     \u001b[38;5;28;43mself\u001b[39;49m\u001b[38;5;241;43m.\u001b[39;49m\u001b[43minterface\u001b[49m\u001b[38;5;241;43m.\u001b[39;49m\u001b[43mbind\u001b[49m\u001b[43m(\u001b[49m\u001b[43mreference\u001b[49m\u001b[43m,\u001b[49m\u001b[43m \u001b[49m\u001b[38;5;28;43mself\u001b[39;49m\u001b[43m,\u001b[49m\u001b[43m \u001b[49m\u001b[43mtargets\u001b[49m\u001b[43m,\u001b[49m\u001b[43m \u001b[49m\u001b[43mrebind\u001b[49m\u001b[43m)\u001b[49m\n",
      "File \u001b[1;32mc:\\Users\\nilsh\\Documents\\Python Projekte\\SQLite_ODATI\\interface.py:281\u001b[0m, in \u001b[0;36mObjectInterface.bind\u001b[1;34m(self, reference, origin, targets, rebind)\u001b[0m\n\u001b[0;32m    279\u001b[0m \u001b[38;5;66;03m# Insert targets\u001b[39;00m\n\u001b[0;32m    280\u001b[0m \u001b[38;5;28;01mif\u001b[39;00m \u001b[38;5;28mlen\u001b[39m(targets) \u001b[38;5;241m>\u001b[39m \u001b[38;5;241m0\u001b[39m:\n\u001b[1;32m--> 281\u001b[0m     \u001b[38;5;28;43mself\u001b[39;49m\u001b[38;5;241;43m.\u001b[39;49m\u001b[43mcursor\u001b[49m\u001b[38;5;241;43m.\u001b[39;49m\u001b[43mexecutemany\u001b[49m\u001b[43m(\u001b[49m\u001b[38;5;124;43mf\u001b[39;49m\u001b[38;5;124;43m\"\u001b[39;49m\u001b[38;5;124;43mINSERT INTO \u001b[39;49m\u001b[38;5;132;43;01m{\u001b[39;49;00m\u001b[43mtable_name\u001b[49m\u001b[38;5;132;43;01m}\u001b[39;49;00m\u001b[38;5;124;43m (origin_id, target_id, version) VALUES (?, ?, ?)\u001b[39;49m\u001b[38;5;124;43m\"\u001b[39;49m\u001b[43m,\u001b[49m\u001b[43m \u001b[49m\u001b[43m(\u001b[49m\u001b[43m(\u001b[49m\u001b[43morigin\u001b[49m\u001b[38;5;241;43m.\u001b[39;49m\u001b[43mid\u001b[49m\u001b[43m,\u001b[49m\u001b[43m \u001b[49m\u001b[43mtarget\u001b[49m\u001b[38;5;241;43m.\u001b[39;49m\u001b[43mid\u001b[49m\u001b[43m,\u001b[49m\u001b[43m \u001b[49m\u001b[43mnew_version\u001b[49m\u001b[43m)\u001b[49m\u001b[43m \u001b[49m\u001b[38;5;28;43;01mfor\u001b[39;49;00m\u001b[43m \u001b[49m\u001b[43mtarget\u001b[49m\u001b[43m \u001b[49m\u001b[38;5;129;43;01min\u001b[39;49;00m\u001b[43m \u001b[49m\u001b[43mtargets\u001b[49m\u001b[43m)\u001b[49m\u001b[43m)\u001b[49m\n\u001b[0;32m    283\u001b[0m \u001b[38;5;66;03m# Apply new version\u001b[39;00m\n\u001b[0;32m    284\u001b[0m \u001b[38;5;28mself\u001b[39m\u001b[38;5;241m.\u001b[39mcursor\u001b[38;5;241m.\u001b[39mexecute(\u001b[38;5;124m\"\u001b[39m\u001b[38;5;124mUPDATE structure_reference_version SET current_version = ? WHERE reference_id = ? AND origin_object_id = ?\u001b[39m\u001b[38;5;124m\"\u001b[39m, (new_version, reference\u001b[38;5;241m.\u001b[39mid, origin\u001b[38;5;241m.\u001b[39mid))\n",
      "File \u001b[1;32mc:\\Users\\nilsh\\Documents\\Python Projekte\\SQLite_ODATI\\interface.py:281\u001b[0m, in \u001b[0;36m<genexpr>\u001b[1;34m(.0)\u001b[0m\n\u001b[0;32m    279\u001b[0m \u001b[38;5;66;03m# Insert targets\u001b[39;00m\n\u001b[0;32m    280\u001b[0m \u001b[38;5;28;01mif\u001b[39;00m \u001b[38;5;28mlen\u001b[39m(targets) \u001b[38;5;241m>\u001b[39m \u001b[38;5;241m0\u001b[39m:\n\u001b[1;32m--> 281\u001b[0m     \u001b[38;5;28mself\u001b[39m\u001b[38;5;241m.\u001b[39mcursor\u001b[38;5;241m.\u001b[39mexecutemany(\u001b[38;5;124mf\u001b[39m\u001b[38;5;124m\"\u001b[39m\u001b[38;5;124mINSERT INTO \u001b[39m\u001b[38;5;132;01m{\u001b[39;00mtable_name\u001b[38;5;132;01m}\u001b[39;00m\u001b[38;5;124m (origin_id, target_id, version) VALUES (?, ?, ?)\u001b[39m\u001b[38;5;124m\"\u001b[39m, ((origin\u001b[38;5;241m.\u001b[39mid, \u001b[43mtarget\u001b[49m\u001b[38;5;241;43m.\u001b[39;49m\u001b[43mid\u001b[49m, new_version) \u001b[38;5;28;01mfor\u001b[39;00m target \u001b[38;5;129;01min\u001b[39;00m targets))\n\u001b[0;32m    283\u001b[0m \u001b[38;5;66;03m# Apply new version\u001b[39;00m\n\u001b[0;32m    284\u001b[0m \u001b[38;5;28mself\u001b[39m\u001b[38;5;241m.\u001b[39mcursor\u001b[38;5;241m.\u001b[39mexecute(\u001b[38;5;124m\"\u001b[39m\u001b[38;5;124mUPDATE structure_reference_version SET current_version = ? WHERE reference_id = ? AND origin_object_id = ?\u001b[39m\u001b[38;5;124m\"\u001b[39m, (new_version, reference\u001b[38;5;241m.\u001b[39mid, origin\u001b[38;5;241m.\u001b[39mid))\n",
      "\u001b[1;31mAttributeError\u001b[0m: 'NoneType' object has no attribute 'id'"
     ]
    }
   ],
   "source": [
    "n_orders = 40\n",
    "with get_interface() as interface:\n",
    "    c_order = interface.get_class(name='Order')\n",
    "    c_position = interface.get_class(name='OrderPosition')\n",
    "    ref_customer = interface.get_reference(name='order_to_customer')\n",
    "    ref_positions = interface.get_reference(name='order_to_positions')\n",
    "    ref_product = interface.get_reference(name='position_to_product')\n",
    "    for i in range(n_orders):\n",
    "        n_products = random.randint(1, 10)\n",
    "\n",
    "        # Bestellung erstellen und Kunde verknüpfen\n",
    "        customer = interface.get_object(random.choice(customer_ids))\n",
    "        order = interface.create_object(c_order)\n",
    "        order.bind(ref_customer, [customer])\n",
    "\n",
    "        # Positionen verknüpfen\n",
    "        positions = []\n",
    "        for k in range(n_products):\n",
    "            product = interface.get_object(random.choice(product_ids))\n",
    "            position = interface.create_object(c_position, amount=random.randint(1, 10))\n",
    "            position.bind(ref_product, [product])\n",
    "            positions.append(position)\n",
    "        order.bind(ref_positions, positions)\n",
    "\n",
    "        print(f\"{customer['full_name']} bought {n_products} products\")"
   ]
  }
 ],
 "metadata": {
  "kernelspec": {
   "display_name": ".venv",
   "language": "python",
   "name": "python3"
  },
  "language_info": {
   "codemirror_mode": {
    "name": "ipython",
    "version": 3
   },
   "file_extension": ".py",
   "mimetype": "text/x-python",
   "name": "python",
   "nbconvert_exporter": "python",
   "pygments_lexer": "ipython3",
   "version": "3.10.4"
  },
  "orig_nbformat": 4
 },
 "nbformat": 4,
 "nbformat_minor": 2
}
