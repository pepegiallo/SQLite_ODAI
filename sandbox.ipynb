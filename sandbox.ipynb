{
 "cells": [
  {
   "cell_type": "code",
   "execution_count": 1,
   "metadata": {},
   "outputs": [],
   "source": [
    "from interface import ObjectInterface\n",
    "import numpy as np\n",
    "import utils\n",
    "\n",
    "FILENAME_DATABASE = 'data/database.db'\n",
    "\n",
    "def get_interface() -> ObjectInterface:\n",
    "    interface = ObjectInterface(FILENAME_DATABASE)\n",
    "    interface.connect()\n",
    "    return interface"
   ]
  },
  {
   "cell_type": "code",
   "execution_count": 6,
   "metadata": {},
   "outputs": [
    {
     "name": "stdout",
     "output_type": "stream",
     "text": [
      "{'street': 'Möllerweg', 'house_number': '359c', 'zip': '12214', 'city': 'Fuchsingen'}\n",
      "PLZ 12214\n",
      "{'street': 'Möllerweg', 'house_number': '359c', 'zip': '46539', 'city': 'Fuchsingen'}\n"
     ]
    }
   ],
   "source": [
    "with get_interface() as interface:\n",
    "    obj = interface.get_object(2)\n",
    "    print(obj.raw_attributes)\n",
    "    print(obj['zip'])\n",
    "\n",
    "    obj.modify(zip='PLZ 46539')\n",
    "    print(obj.raw_attributes)"
   ]
  },
  {
   "cell_type": "code",
   "execution_count": 7,
   "metadata": {},
   "outputs": [
    {
     "name": "stdout",
     "output_type": "stream",
     "text": [
      "b'x\\x9c\\x9b\\xec\\x17\\xea\\x1b\\x10\\xc9\\xc8P\\xc6P\\xad\\x9e\\x92Z\\x9c\\\\\\xa4n\\xa5\\xa0n\\x93i\\xa2\\xae\\xa3\\xa0\\x9e\\x96_TR\\x94\\x98\\x17\\x9f_\\x94\\x92\\n\\x12wK\\xcc)N\\x05\\x8a\\x17g$\\x16\\xa4\\x02\\xf9\\x1aF:\\n\\xa6\\x9a:\\n\\xb5\\nd\\x03.\\x06 `\\x04b& f\\x06b\\x16 f\\x05b6 f\\x07b\\x0e \\xe6\\x04b\\x00\\xa4\\xa7\\x1b\\x9e' 101 168\n",
      "[[0 1 2 3 4]\n",
      " [5 6 7 8 9]]\n",
      "[[0 1 2 3 4]\n",
      " [5 6 7 8 9]]\n"
     ]
    }
   ],
   "source": [
    "with get_interface() as interface:\n",
    "    obj = interface.create_object(interface.get_class(name='ArrayData'), some_numbers=np.arange(10).reshape((2, -1)))\n",
    "    obj_db = interface.get_object(obj.id)\n",
    "    print(obj_db.get_raw_value('some_numbers'), len(obj_db.get_raw_value('some_numbers')), len(utils.array_to_bytes(obj_db.get_value('some_numbers'))))\n",
    "    print(obj_db.get_unprocessed_value('some_numbers'))\n",
    "    print(obj_db.get_value('some_numbers'))"
   ]
  }
 ],
 "metadata": {
  "kernelspec": {
   "display_name": ".venv",
   "language": "python",
   "name": "python3"
  },
  "language_info": {
   "codemirror_mode": {
    "name": "ipython",
    "version": 3
   },
   "file_extension": ".py",
   "mimetype": "text/x-python",
   "name": "python",
   "nbconvert_exporter": "python",
   "pygments_lexer": "ipython3",
   "version": "3.9.7"
  },
  "orig_nbformat": 4
 },
 "nbformat": 4,
 "nbformat_minor": 2
}
