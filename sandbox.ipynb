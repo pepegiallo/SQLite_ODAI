{
 "cells": [
  {
   "cell_type": "code",
   "execution_count": 1,
   "metadata": {},
   "outputs": [],
   "source": [
    "from interface import ObjectInterface\n",
    "from ddl import Interpreter\n",
    "import utils\n",
    "import logging\n",
    "import os\n",
    "import examples.randomdata as rd\n",
    "from decimal import Decimal\n",
    "import random\n",
    "from datetime import datetime\n",
    "\n",
    "FILENAME_DATABASE = 'data/database.db'\n",
    "FILENAME_STRUCTURE = 'setup/example_structure.ddl'\n",
    "logging.basicConfig(format='[%(asctime)s] %(levelname)s: %(message)s', datefmt='%Y-%m-%d %H:%M:%S', level=logging.DEBUG)\n",
    "\n",
    "def get_interface() -> ObjectInterface:\n",
    "    interface = ObjectInterface(FILENAME_DATABASE)\n",
    "    interface.connect()\n",
    "    return interface"
   ]
  },
  {
   "attachments": {},
   "cell_type": "markdown",
   "metadata": {},
   "source": [
    "### Datenbank neu aufsetzen und Datenmodell einspielen"
   ]
  },
  {
   "cell_type": "code",
   "execution_count": 2,
   "metadata": {},
   "outputs": [
    {
     "name": "stderr",
     "output_type": "stream",
     "text": [
      "[2024-02-13 07:16:19] DEBUG: Setup successful\n",
      "[2024-02-13 07:16:19] DEBUG: Created datatype void (NULL, no read transformer, no write transformer)\n",
      "[2024-02-13 07:16:19] DEBUG: Created datatype int (INTEGER, no read transformer, no write transformer)\n",
      "[2024-02-13 07:16:19] DEBUG: Created datatype shorttext (VARCHAR(64), no read transformer, no write transformer)\n",
      "[2024-02-13 07:16:19] DEBUG: Created datatype longtext (VARCHAR(256), no read transformer, no write transformer)\n",
      "[2024-02-13 07:16:19] DEBUG: Created datatype text (TEXT, no read transformer, no write transformer)\n",
      "[2024-02-13 07:16:19] DEBUG: Created datatype date (DATE, read transformer, write transformer)\n",
      "[2024-02-13 07:16:19] DEBUG: Created datatype datetime (DATETIME, read transformer, write transformer)\n",
      "[2024-02-13 07:16:19] DEBUG: Created datatype zipcode (VARCHAR(5), no read transformer, no write transformer)\n",
      "[2024-02-13 07:16:19] DEBUG: Created datatype currency2 (INTEGER, read transformer, write transformer)\n",
      "[2024-02-13 07:16:19] DEBUG: Created datatype array (BLOB, read transformer, write transformer)\n",
      "[2024-02-13 07:16:19] DEBUG: Created new attribute first_name\n",
      "[2024-02-13 07:16:19] DEBUG: Created new attribute last_name\n",
      "[2024-02-13 07:16:19] DEBUG: Created new attribute full_name\n",
      "[2024-02-13 07:16:19] DEBUG: Created new attribute number\n",
      "[2024-02-13 07:16:19] DEBUG: Created new attribute street\n",
      "[2024-02-13 07:16:19] DEBUG: Created new attribute house_number\n",
      "[2024-02-13 07:16:19] DEBUG: Created new attribute zip\n",
      "[2024-02-13 07:16:19] DEBUG: Created new attribute city\n",
      "[2024-02-13 07:16:19] DEBUG: Created new attribute price\n",
      "[2024-02-13 07:16:19] DEBUG: Created new attribute creation_time\n",
      "[2024-02-13 07:16:19] DEBUG: Created new attribute name\n",
      "[2024-02-13 07:16:19] DEBUG: Created new attribute amount\n",
      "[2024-02-13 07:16:19] DEBUG: Created new attribute birthday\n",
      "[2024-02-13 07:16:19] DEBUG: Created new class Person\n",
      "[2024-02-13 07:16:19] DEBUG: Assigned first_name to Person\n",
      "[2024-02-13 07:16:19] DEBUG: Assigned last_name to Person\n",
      "[2024-02-13 07:16:19] DEBUG: Assigned full_name to Person\n",
      "[2024-02-13 07:16:19] DEBUG: Assigned birthday to Person\n",
      "[2024-02-13 07:16:19] DEBUG: Created new class Customer as subclass of Person\n",
      "[2024-02-13 07:16:19] DEBUG: Assigned street to Customer\n",
      "[2024-02-13 07:16:19] DEBUG: Assigned house_number to Customer\n",
      "[2024-02-13 07:16:19] DEBUG: Assigned zip to Customer\n",
      "[2024-02-13 07:16:19] DEBUG: Assigned city to Customer\n",
      "[2024-02-13 07:16:19] DEBUG: Created new class Product\n",
      "[2024-02-13 07:16:19] DEBUG: Assigned name to Product\n",
      "[2024-02-13 07:16:19] DEBUG: Assigned price to Product\n",
      "[2024-02-13 07:16:19] DEBUG: Created new class OrderPosition\n",
      "[2024-02-13 07:16:19] DEBUG: Assigned amount to OrderPosition\n",
      "[2024-02-13 07:16:19] DEBUG: Assigned price to OrderPosition\n",
      "[2024-02-13 07:16:19] DEBUG: Created new reference position_to_product between class OrderPosition and Product\n",
      "[2024-02-13 07:16:19] DEBUG: Created new class Order\n",
      "[2024-02-13 07:16:19] DEBUG: Assigned creation_time to Order\n",
      "[2024-02-13 07:16:19] DEBUG: Assigned price to Order\n",
      "[2024-02-13 07:16:19] DEBUG: Created new reference order_to_customer between class Order and Customer\n",
      "[2024-02-13 07:16:19] DEBUG: Created new reference order_to_positions between class Order and OrderPosition\n",
      "[2024-02-13 07:16:19] DEBUG: Structure built\n"
     ]
    }
   ],
   "source": [
    "# Datenbank löschen (wenn existiert)\n",
    "if os.path.exists(FILENAME_DATABASE):\n",
    "    os.remove(FILENAME_DATABASE)\n",
    "\n",
    "# Datenmodell einspielen\n",
    "with get_interface() as interface:\n",
    "    interface.setup()\n",
    "    interpreter = Interpreter(interface)\n",
    "    with open(FILENAME_STRUCTURE, 'r') as file:\n",
    "        interpreter.run(file.read())\n",
    "    interface.commit()"
   ]
  },
  {
   "attachments": {},
   "cell_type": "markdown",
   "metadata": {},
   "source": [
    "### Kunden einfügen"
   ]
  },
  {
   "cell_type": "code",
   "execution_count": 3,
   "metadata": {},
   "outputs": [
    {
     "name": "stdout",
     "output_type": "stream",
     "text": [
      "{'first_name': 'Ottilie', 'last_name': 'Koch', 'birthday': datetime.date(2008, 9, 18), 'street': 'Schröderstraße', 'house_number': '455c', 'zip': '44763', 'city': 'Fuchsdorf'}\n"
     ]
    }
   ],
   "source": [
    "rd.set_seed(2024)\n",
    "\n",
    "def get_random_customer():\n",
    "    customer = rd.get_random_person()\n",
    "    customer.update(rd.get_random_address())\n",
    "    return customer\n",
    "\n",
    "print(get_random_customer())"
   ]
  },
  {
   "cell_type": "code",
   "execution_count": 4,
   "metadata": {},
   "outputs": [
    {
     "name": "stdout",
     "output_type": "stream",
     "text": [
      "Inserted 100 customers\n"
     ]
    }
   ],
   "source": [
    "n_customers = 100\n",
    "customer_ids = []\n",
    "with get_interface() as interface:\n",
    "    for i in range(n_customers):\n",
    "        customer_ids.append(interface.create_object('Customer', **get_random_customer()).id)\n",
    "    interface.commit()\n",
    "print(f\"Inserted {n_customers} customers\")"
   ]
  },
  {
   "attachments": {},
   "cell_type": "markdown",
   "metadata": {},
   "source": [
    "### Produkte einfügen"
   ]
  },
  {
   "cell_type": "code",
   "execution_count": 5,
   "metadata": {},
   "outputs": [
    {
     "name": "stdout",
     "output_type": "stream",
     "text": [
      "Inserted 12 products\n"
     ]
    }
   ],
   "source": [
    "product_ids = []\n",
    "products = [\n",
    "    ['Rennrad', Decimal('995.99')],\n",
    "    ['BMX', Decimal('195.99')],\n",
    "    ['Hollandrad', Decimal('249.99')],\n",
    "    ['Tourenrad', Decimal('549.99')],\n",
    "    ['Kette', Decimal('19.99')],\n",
    "    ['Klingel', Decimal('5.99')],\n",
    "    ['Schlauch 28 Zoll', Decimal('7.99')],\n",
    "    ['Schlauch 26 Zoll', Decimal('7.49')],\n",
    "    ['Reifen 28 Zoll', Decimal('18.99')],\n",
    "    ['Reifen 26 Zoll', Decimal('17.99')],\n",
    "    ['Kettenfett', Decimal('3.99')],\n",
    "    ['Helm', Decimal('144.99')]\n",
    "]\n",
    "with get_interface() as interface:\n",
    "    for p in products:\n",
    "        product_ids.append(interface.create_object('Product', name=p[0], price=p[1]).id)\n",
    "    interface.commit()\n",
    "print(f\"Inserted {len(products)} products\")"
   ]
  },
  {
   "attachments": {},
   "cell_type": "markdown",
   "metadata": {},
   "source": [
    "### Bestellungen einfügen"
   ]
  },
  {
   "cell_type": "code",
   "execution_count": 6,
   "metadata": {},
   "outputs": [
    {
     "name": "stdout",
     "output_type": "stream",
     "text": [
      "Ottilie Fischer bought 10 products\n",
      "Heidi Hahn bought 6 products\n",
      "Doris Schmidt bought 6 products\n",
      "Melanie Koch bought 8 products\n",
      "Uwe Schmid bought 1 products\n",
      "Quentin Richter bought 9 products\n",
      "Vivien Bauer bought 7 products\n",
      "Clemens Becker bought 8 products\n",
      "Gerhard Schröder bought 8 products\n",
      "Franz Lehmann bought 10 products\n",
      "Stefan Wolf bought 7 products\n",
      "Quentin Schäfer bought 4 products\n",
      "Gerhard Hahn bought 7 products\n",
      "Anne Peters bought 6 products\n",
      "Nicolas König bought 8 products\n",
      "Vivien Lang bought 1 products\n",
      "Emil Fuchs bought 3 products\n",
      "Bert Schmid bought 3 products\n",
      "Julian Neumann bought 1 products\n",
      "Walter Lang bought 2 products\n",
      "Inga Braun bought 2 products\n",
      "Katrin Huber bought 10 products\n",
      "Clemens Krüger bought 9 products\n",
      "Ottilie Schmitt bought 2 products\n",
      "Uwe Scholz bought 3 products\n",
      "Inga Braun bought 2 products\n",
      "Tanja Peters bought 2 products\n",
      "Ottilie Schmitt bought 10 products\n",
      "Katrin Huber bought 9 products\n",
      "Ottilie Schmitt bought 8 products\n",
      "Clemens Becker bought 9 products\n",
      "Franz Fuchs bought 4 products\n",
      "Stefan Hoffmann bought 1 products\n",
      "Nils Braun bought 7 products\n",
      "Stefan Hoffmann bought 4 products\n",
      "Rita Fuchs bought 2 products\n",
      "Gerhard Huber bought 10 products\n",
      "Tanja Bauer bought 3 products\n",
      "Walter Schwarz bought 5 products\n",
      "Walter Lang bought 1 products\n"
     ]
    }
   ],
   "source": [
    "n_orders = 40\n",
    "order_ids = []\n",
    "with get_interface() as interface:\n",
    "    for i in range(n_orders):\n",
    "        n_products = random.randint(1, 10)\n",
    "\n",
    "        # Bestellung erstellen und Kunde verknüpfen\n",
    "        customer = interface.get_object(random.choice(customer_ids))\n",
    "        order = interface.create_object('Order', creation_time=datetime.now())\n",
    "        order.bind('order_to_customer', [customer])\n",
    "\n",
    "        # Positionen verknüpfen\n",
    "        positions = []\n",
    "        for k in range(n_products):\n",
    "            product = interface.get_object(random.choice(product_ids))\n",
    "            position = interface.create_object('OrderPosition', amount=random.randint(1, 10))\n",
    "            position.bind('position_to_product', [product])\n",
    "            positions.append(position)\n",
    "        order.bind('order_to_positions', positions)\n",
    "        order_ids.append(order.id)\n",
    "\n",
    "        print(f\"{customer['full_name']} bought {n_products} products\")\n",
    "    interface.commit()"
   ]
  },
  {
   "attachments": {},
   "cell_type": "markdown",
   "metadata": {},
   "source": [
    "### Bestellung anzeigen"
   ]
  },
  {
   "cell_type": "code",
   "execution_count": 7,
   "metadata": {},
   "outputs": [
    {
     "name": "stdout",
     "output_type": "stream",
     "text": [
      "Order 124:\n",
      "  price = 2930.69\n",
      "  creation_time = 2024-02-13 07:16:19 \n",
      "\n",
      "Customer 76:\n",
      "  first_name = Heidi\n",
      "  last_name = Hahn\n",
      "  full_name = Heidi Hahn\n",
      "  birthday = 1982-11-27\n",
      "  street = Lehmannstraße\n",
      "  house_number = 264\n",
      "  zip = 15036\n",
      "  city = Werneringen \n",
      "\n",
      "8x BMX\n",
      "4x Schlauch 28 Zoll\n",
      "1x Hollandrad\n",
      "7x Helm\n",
      "2x Klingel\n",
      "9x Klingel\n"
     ]
    }
   ],
   "source": [
    "with get_interface() as interface:\n",
    "    # Bestellung\n",
    "    order = interface.get_object(random.choice(order_ids))\n",
    "    print(order.dump(), '\\n')\n",
    "\n",
    "    # Kunde\n",
    "    customer = order.hop('order_to_customer')[0]\n",
    "    print(customer.dump(), '\\n')\n",
    "\n",
    "    # Produkte\n",
    "    positions = order.hop('order_to_positions')\n",
    "    for position in positions:\n",
    "        print(f\"{position['amount']}x {position.hop_first('position_to_product')['name']}\")\n",
    "\n",
    "    df = positions.hop('position_to_product').get_dataframe()\n",
    "    df_pos = positions.get_dataframe()\n",
    "    expensive_positions = positions.filter(positions.get_column('price') > 150)\n",
    "    df_expensive = expensive_positions.get_dataframe()"
   ]
  },
  {
   "cell_type": "code",
   "execution_count": 8,
   "metadata": {},
   "outputs": [
    {
     "data": {
      "text/html": [
       "<div>\n",
       "<style scoped>\n",
       "    .dataframe tbody tr th:only-of-type {\n",
       "        vertical-align: middle;\n",
       "    }\n",
       "\n",
       "    .dataframe tbody tr th {\n",
       "        vertical-align: top;\n",
       "    }\n",
       "\n",
       "    .dataframe thead th {\n",
       "        text-align: right;\n",
       "    }\n",
       "</style>\n",
       "<table border=\"1\" class=\"dataframe\">\n",
       "  <thead>\n",
       "    <tr style=\"text-align: right;\">\n",
       "      <th></th>\n",
       "      <th>price</th>\n",
       "      <th>amount</th>\n",
       "    </tr>\n",
       "    <tr>\n",
       "      <th>id</th>\n",
       "      <th></th>\n",
       "      <th></th>\n",
       "    </tr>\n",
       "  </thead>\n",
       "  <tbody>\n",
       "    <tr>\n",
       "      <th>125</th>\n",
       "      <td>1567.92</td>\n",
       "      <td>8</td>\n",
       "    </tr>\n",
       "    <tr>\n",
       "      <th>127</th>\n",
       "      <td>249.99</td>\n",
       "      <td>1</td>\n",
       "    </tr>\n",
       "    <tr>\n",
       "      <th>128</th>\n",
       "      <td>1014.93</td>\n",
       "      <td>7</td>\n",
       "    </tr>\n",
       "  </tbody>\n",
       "</table>\n",
       "</div>"
      ],
      "text/plain": [
       "       price  amount\n",
       "id                  \n",
       "125  1567.92       8\n",
       "127   249.99       1\n",
       "128  1014.93       7"
      ]
     },
     "execution_count": 8,
     "metadata": {},
     "output_type": "execute_result"
    }
   ],
   "source": [
    "df_expensive.head(20)"
   ]
  }
 ],
 "metadata": {
  "kernelspec": {
   "display_name": ".venv",
   "language": "python",
   "name": "python3"
  },
  "language_info": {
   "codemirror_mode": {
    "name": "ipython",
    "version": 3
   },
   "file_extension": ".py",
   "mimetype": "text/x-python",
   "name": "python",
   "nbconvert_exporter": "python",
   "pygments_lexer": "ipython3",
   "version": "3.10.4"
  },
  "orig_nbformat": 4
 },
 "nbformat": 4,
 "nbformat_minor": 2
}
